{
 "cells": [
  {
   "cell_type": "code",
   "execution_count": 1,
   "metadata": {},
   "outputs": [
    {
     "name": "stdout",
     "output_type": "stream",
     "text": [
      "Requirement already satisfied: beautifulsoup4 in /anaconda3/lib/python3.7/site-packages (4.6.3)\n"
     ]
    }
   ],
   "source": [
    "!pip install beautifulsoup4\n",
    "#!wget https://dumps.wikimedia.org/enwiki/20190420/enwiki-20190420-pages-articles-multistream1.xml-p10p30302.bz2\n",
    "#!bunzip2 enwiki-20190420-pages-articles-multistream1.xml-p10p30302.bz2    "
   ]
  },
  {
   "cell_type": "code",
   "execution_count": 2,
   "metadata": {},
   "outputs": [
    {
     "name": "stdout",
     "output_type": "stream",
     "text": [
      "Requirement already satisfied: lxml in /anaconda3/lib/python3.7/site-packages (4.2.5)\n"
     ]
    }
   ],
   "source": [
    "!pip install lxml"
   ]
  },
  {
   "cell_type": "code",
   "execution_count": 3,
   "metadata": {},
   "outputs": [
    {
     "name": "stdout",
     "output_type": "stream",
     "text": [
      " 4586335 74563548 642819893 enwiki-20190420-pages-articles-multistream1.xml-p10p30302\n"
     ]
    }
   ],
   "source": [
    "# Count lines, words, characters in XML data file\n",
    "!wc enwiki-20190420-pages-articles-multistream1.xml-p10p30302"
   ]
  },
  {
   "cell_type": "code",
   "execution_count": 4,
   "metadata": {},
   "outputs": [],
   "source": [
    "from bs4 import BeautifulSoup\n",
    "import pandas as pd"
   ]
  },
  {
   "cell_type": "code",
   "execution_count": 5,
   "metadata": {},
   "outputs": [],
   "source": [
    "def get_pages_from_xml_file(filename, start_tag='<page>', end_tag='</page>'):\n",
    "    \"\"\"Yields each page from the specified XML data file.\"\"\"\n",
    "    page = None\n",
    "    with open(filename) as f:\n",
    "        for line in f:\n",
    "            if start_tag in line:\n",
    "                page = []\n",
    "                page.append(line)\n",
    "            elif end_tag in line:\n",
    "                page.append(line)\n",
    "                page_xml = ''.join(page)\n",
    "                yield page_xml\n",
    "                page = None\n",
    "            else:\n",
    "                if page is not None:\n",
    "                    page.append(line)"
   ]
  },
  {
   "cell_type": "code",
   "execution_count": 6,
   "metadata": {},
   "outputs": [],
   "source": [
    "filename = 'enwiki-20190420-pages-articles-multistream1.xml-p10p30302'\n",
    "pages = list(get_pages_from_xml_file(filename))"
   ]
  },
  {
   "cell_type": "code",
   "execution_count": 7,
   "metadata": {},
   "outputs": [],
   "source": [
    "def get_title_from_page_xml(page_xml):\n",
    "    \"\"\"Returns the title of the given page.\"\"\"\n",
    "    soup = BeautifulSoup(page_xml, 'lxml')\n",
    "    return soup.select_one('title').text"
   ]
  },
  {
   "cell_type": "code",
   "execution_count": 8,
   "metadata": {
    "scrolled": true
   },
   "outputs": [
    {
     "data": {
      "text/plain": [
       "19822"
      ]
     },
     "execution_count": 8,
     "metadata": {},
     "output_type": "execute_result"
    }
   ],
   "source": [
    "len(pages)  # Show the number of pages"
   ]
  },
  {
   "cell_type": "code",
   "execution_count": 9,
   "metadata": {
    "scrolled": true
   },
   "outputs": [
    {
     "name": "stdout",
     "output_type": "stream",
     "text": [
      "CPU times: user 32 s, sys: 1.27 s, total: 33.3 s\n",
      "Wall time: 33.3 s\n"
     ]
    }
   ],
   "source": [
    "%time titles = [get_title_from_page_xml(page) for page in pages]"
   ]
  },
  {
   "cell_type": "code",
   "execution_count": 10,
   "metadata": {},
   "outputs": [
    {
     "data": {
      "text/plain": [
       "['AccessibleComputing',\n",
       " 'Anarchism',\n",
       " 'AfghanistanHistory',\n",
       " 'AfghanistanGeography',\n",
       " 'AfghanistanPeople',\n",
       " '...',\n",
       " 'The Lord of the Rings/One Ring',\n",
       " 'Tax Freedom Day',\n",
       " 'Tax',\n",
       " 'Transhumanism',\n",
       " 'TARDIS']"
      ]
     },
     "execution_count": 10,
     "metadata": {},
     "output_type": "execute_result"
    }
   ],
   "source": [
    "titles[:5] + ['...'] + titles[-5:]  # Show the first and last 5 titles"
   ]
  },
  {
   "cell_type": "code",
   "execution_count": 11,
   "metadata": {},
   "outputs": [
    {
     "name": "stdout",
     "output_type": "stream",
     "text": [
      "  <page>\n",
      "    <title>AccessibleComputing</title>\n",
      "    <ns>0</ns>\n",
      "    <id>10</id>\n",
      "    <redirect title=\"Computer accessibility\" />\n",
      "    <revision>\n",
      "      <id>854851586</id>\n",
      "      <parentid>834079434</parentid>\n",
      "      <timestamp>2018-08-14T06:47:24Z</timestamp>\n",
      "      <contributor>\n",
      "        <username>Godsy</username>\n",
      "        <id>23257138</id>\n",
      "      </contributor>\n",
      "      <comment>remove from category for seeking instructions on rcats</comment>\n",
      "      <model>wikitext</model>\n",
      "      <format>text/x-wiki</format>\n",
      "      <text xml:space=\"preserve\">#REDIRECT [[Computer accessibility]]\n",
      "\n",
      "{{R from move}}\n",
      "{{R from CamelCase}}\n",
      "{{R unprintworthy}}</text>\n",
      "      <sha1>42l0cvblwtb4nnupxm6wo000d27t6kf</sha1>\n",
      "    </revision>\n",
      "  </page>\n",
      "\n"
     ]
    }
   ],
   "source": [
    "print(pages[0])  # Print the first page"
   ]
  },
  {
   "cell_type": "code",
   "execution_count": 12,
   "metadata": {},
   "outputs": [],
   "source": [
    "def get_text_from_page_xml(page_xml):\n",
    "    \"\"\"Returns the text of the given page.\"\"\"\n",
    "    soup = BeautifulSoup(page_xml, 'lxml')\n",
    "    return soup.get_text()"
   ]
  },
  {
   "cell_type": "code",
   "execution_count": 13,
   "metadata": {},
   "outputs": [
    {
     "data": {
      "text/plain": [
       "('\\nAccessibleComputing\\n0\\n10\\n\\n\\n854851586\\n834079434\\n2018-08-14T06:47:24Z\\n\\nGodsy\\n23257138\\n\\nremove from category for seeking instructions on rcats\\nwikitext\\ntext/x-wiki\\n#REDIRECT [[Computer accessibility]]\\n\\n{{R from move}}\\n{{R from CamelCase}}\\n{{R unprintworthy}}\\n42l0cvblwtb4nnupxm6wo000d27t6kf\\n\\n\\n',\n",
       " str)"
      ]
     },
     "execution_count": 13,
     "metadata": {},
     "output_type": "execute_result"
    }
   ],
   "source": [
    "page = pages[0]\n",
    "soup = BeautifulSoup(page, 'lxml')\n",
    "text = get_text_from_page_xml(page)\n",
    "text, type(text)"
   ]
  },
  {
   "cell_type": "code",
   "execution_count": 14,
   "metadata": {},
   "outputs": [],
   "source": [
    "data = []\n",
    "for page in pages:\n",
    "    row = {\n",
    "        'title': get_title_from_page_xml(page),\n",
    "        'text': get_text_from_page_xml(page),\n",
    "    }\n",
    "    data.append(row)"
   ]
  },
  {
   "cell_type": "code",
   "execution_count": 15,
   "metadata": {},
   "outputs": [
    {
     "data": {
      "text/html": [
       "<div>\n",
       "<style scoped>\n",
       "    .dataframe tbody tr th:only-of-type {\n",
       "        vertical-align: middle;\n",
       "    }\n",
       "\n",
       "    .dataframe tbody tr th {\n",
       "        vertical-align: top;\n",
       "    }\n",
       "\n",
       "    .dataframe thead th {\n",
       "        text-align: right;\n",
       "    }\n",
       "</style>\n",
       "<table border=\"1\" class=\"dataframe\">\n",
       "  <thead>\n",
       "    <tr style=\"text-align: right;\">\n",
       "      <th></th>\n",
       "      <th>text</th>\n",
       "      <th>title</th>\n",
       "    </tr>\n",
       "  </thead>\n",
       "  <tbody>\n",
       "    <tr>\n",
       "      <th>0</th>\n",
       "      <td>\\nAccessibleComputing\\n0\\n10\\n\\n\\n854851586\\n8...</td>\n",
       "      <td>AccessibleComputing</td>\n",
       "    </tr>\n",
       "    <tr>\n",
       "      <th>1</th>\n",
       "      <td>\\nAnarchism\\n0\\n12\\n\\n893307238\\n893261087\\n20...</td>\n",
       "      <td>Anarchism</td>\n",
       "    </tr>\n",
       "    <tr>\n",
       "      <th>2</th>\n",
       "      <td>\\nAfghanistanHistory\\n0\\n13\\n\\n\\n783865149\\n74...</td>\n",
       "      <td>AfghanistanHistory</td>\n",
       "    </tr>\n",
       "    <tr>\n",
       "      <th>3</th>\n",
       "      <td>\\nAfghanistanGeography\\n0\\n14\\n\\n\\n783865160\\n...</td>\n",
       "      <td>AfghanistanGeography</td>\n",
       "    </tr>\n",
       "    <tr>\n",
       "      <th>4</th>\n",
       "      <td>\\nAfghanistanPeople\\n0\\n15\\n\\n\\n783865293\\n616...</td>\n",
       "      <td>AfghanistanPeople</td>\n",
       "    </tr>\n",
       "  </tbody>\n",
       "</table>\n",
       "</div>"
      ],
      "text/plain": [
       "                                                text                 title\n",
       "0  \\nAccessibleComputing\\n0\\n10\\n\\n\\n854851586\\n8...   AccessibleComputing\n",
       "1  \\nAnarchism\\n0\\n12\\n\\n893307238\\n893261087\\n20...             Anarchism\n",
       "2  \\nAfghanistanHistory\\n0\\n13\\n\\n\\n783865149\\n74...    AfghanistanHistory\n",
       "3  \\nAfghanistanGeography\\n0\\n14\\n\\n\\n783865160\\n...  AfghanistanGeography\n",
       "4  \\nAfghanistanPeople\\n0\\n15\\n\\n\\n783865293\\n616...     AfghanistanPeople"
      ]
     },
     "execution_count": 15,
     "metadata": {},
     "output_type": "execute_result"
    }
   ],
   "source": [
    "df = pd.DataFrame(data)\n",
    "df.head()"
   ]
  },
  {
   "cell_type": "markdown",
   "metadata": {},
   "source": [
    "### Challenge"
   ]
  },
  {
   "cell_type": "markdown",
   "metadata": {},
   "source": [
    "#### 1. Create a Pandas dataframe containing the title and text of each page.\n",
    "\n",
    "* Implement the `get_text_from_page_xml` function above.\n",
    "* Re-create the dataframe with the text field filled in.\n",
    "\n",
    "#### 2. Identify the five pages that have the _longest_ text.\n",
    "\n",
    "* Find the length of each page's `<text>...</text>` element and add it to your dataframe.\n",
    "* Sort the data frame by text length, descending.\n",
    "* What are the titles of the five longest articles?"
   ]
  },
  {
   "cell_type": "code",
   "execution_count": 16,
   "metadata": {},
   "outputs": [],
   "source": [
    "text_length = []\n",
    "for row in range(len(df.text)):\n",
    "    text_length.append(len(df.text[row]))"
   ]
  },
  {
   "cell_type": "code",
   "execution_count": 27,
   "metadata": {},
   "outputs": [],
   "source": [
    "df['text_length'] = text_length"
   ]
  },
  {
   "cell_type": "code",
   "execution_count": 28,
   "metadata": {},
   "outputs": [
    {
     "data": {
      "text/plain": [
       "Index(['text', 'title', 'text_length'], dtype='object')"
      ]
     },
     "execution_count": 28,
     "metadata": {},
     "output_type": "execute_result"
    }
   ],
   "source": [
    "df.columns"
   ]
  },
  {
   "cell_type": "code",
   "execution_count": 30,
   "metadata": {},
   "outputs": [
    {
     "data": {
      "text/html": [
       "<div>\n",
       "<style scoped>\n",
       "    .dataframe tbody tr th:only-of-type {\n",
       "        vertical-align: middle;\n",
       "    }\n",
       "\n",
       "    .dataframe tbody tr th {\n",
       "        vertical-align: top;\n",
       "    }\n",
       "\n",
       "    .dataframe thead th {\n",
       "        text-align: right;\n",
       "    }\n",
       "</style>\n",
       "<table border=\"1\" class=\"dataframe\">\n",
       "  <thead>\n",
       "    <tr style=\"text-align: right;\">\n",
       "      <th></th>\n",
       "      <th>text</th>\n",
       "      <th>title</th>\n",
       "      <th>text_length</th>\n",
       "    </tr>\n",
       "  </thead>\n",
       "  <tbody>\n",
       "    <tr>\n",
       "      <th>10165</th>\n",
       "      <td>\\nList of compositions by Johann Sebastian Bac...</td>\n",
       "      <td>List of compositions by Johann Sebastian Bach</td>\n",
       "      <td>433376</td>\n",
       "    </tr>\n",
       "    <tr>\n",
       "      <th>15129</th>\n",
       "      <td>\\nPakistan\\n0\\n23235\\n\\n892344051\\n892318762\\n...</td>\n",
       "      <td>Pakistan</td>\n",
       "      <td>377146</td>\n",
       "    </tr>\n",
       "    <tr>\n",
       "      <th>15287</th>\n",
       "      <td>\\nPhilippines\\n0\\n23440\\n\\n893390996\\n89338606...</td>\n",
       "      <td>Philippines</td>\n",
       "      <td>358169</td>\n",
       "    </tr>\n",
       "    <tr>\n",
       "      <th>9299</th>\n",
       "      <td>\\nForeign relations of India\\n0\\n14604\\n\\n8908...</td>\n",
       "      <td>Foreign relations of India</td>\n",
       "      <td>317905</td>\n",
       "    </tr>\n",
       "    <tr>\n",
       "      <th>8838</th>\n",
       "      <td>\\nHistory of India\\n0\\n13890\\n\\n892803276\\n892...</td>\n",
       "      <td>History of India</td>\n",
       "      <td>316989</td>\n",
       "    </tr>\n",
       "  </tbody>\n",
       "</table>\n",
       "</div>"
      ],
      "text/plain": [
       "                                                    text  \\\n",
       "10165  \\nList of compositions by Johann Sebastian Bac...   \n",
       "15129  \\nPakistan\\n0\\n23235\\n\\n892344051\\n892318762\\n...   \n",
       "15287  \\nPhilippines\\n0\\n23440\\n\\n893390996\\n89338606...   \n",
       "9299   \\nForeign relations of India\\n0\\n14604\\n\\n8908...   \n",
       "8838   \\nHistory of India\\n0\\n13890\\n\\n892803276\\n892...   \n",
       "\n",
       "                                               title  text_length  \n",
       "10165  List of compositions by Johann Sebastian Bach       433376  \n",
       "15129                                       Pakistan       377146  \n",
       "15287                                    Philippines       358169  \n",
       "9299                      Foreign relations of India       317905  \n",
       "8838                                History of India       316989  "
      ]
     },
     "execution_count": 30,
     "metadata": {},
     "output_type": "execute_result"
    }
   ],
   "source": [
    "df.sort_values('text_length', ascending=False).head()"
   ]
  },
  {
   "cell_type": "code",
   "execution_count": null,
   "metadata": {},
   "outputs": [],
   "source": []
  }
 ],
 "metadata": {
  "kernelspec": {
   "display_name": "Python [conda env:root]",
   "language": "python",
   "name": "conda-root-py"
  },
  "language_info": {
   "codemirror_mode": {
    "name": "ipython",
    "version": 3
   },
   "file_extension": ".py",
   "mimetype": "text/x-python",
   "name": "python",
   "nbconvert_exporter": "python",
   "pygments_lexer": "ipython3",
   "version": "3.7.1"
  }
 },
 "nbformat": 4,
 "nbformat_minor": 2
}
